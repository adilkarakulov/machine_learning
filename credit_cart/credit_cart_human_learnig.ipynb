{
 "cells": [
  {
   "cell_type": "markdown",
   "id": "175807a5",
   "metadata": {},
   "source": [
    "# Credit Card Defaulter\n",
    "1) ID - Id of customer\n",
    "2) Default - Is the person a loan defaulter\n",
    "3) Student - Is the person a student\n",
    "4) Balance - balance in his/her account\n",
    "5) Income - His/Her income"
   ]
  },
  {
   "cell_type": "code",
   "execution_count": 2,
   "id": "d929a695",
   "metadata": {},
   "outputs": [],
   "source": [
    "import pandas as pd"
   ]
  },
  {
   "cell_type": "code",
   "execution_count": 3,
   "id": "0fe03667",
   "metadata": {},
   "outputs": [],
   "source": [
    "df = pd.read_csv('credit_card_defaulter.csv')"
   ]
  },
  {
   "cell_type": "code",
   "execution_count": 4,
   "id": "2777908f",
   "metadata": {},
   "outputs": [
    {
     "data": {
      "text/html": [
       "<div>\n",
       "<style scoped>\n",
       "    .dataframe tbody tr th:only-of-type {\n",
       "        vertical-align: middle;\n",
       "    }\n",
       "\n",
       "    .dataframe tbody tr th {\n",
       "        vertical-align: top;\n",
       "    }\n",
       "\n",
       "    .dataframe thead th {\n",
       "        text-align: right;\n",
       "    }\n",
       "</style>\n",
       "<table border=\"1\" class=\"dataframe\">\n",
       "  <thead>\n",
       "    <tr style=\"text-align: right;\">\n",
       "      <th></th>\n",
       "      <th>Unnamed: 0</th>\n",
       "      <th>default</th>\n",
       "      <th>student</th>\n",
       "      <th>balance</th>\n",
       "      <th>income</th>\n",
       "    </tr>\n",
       "  </thead>\n",
       "  <tbody>\n",
       "    <tr>\n",
       "      <th>0</th>\n",
       "      <td>1</td>\n",
       "      <td>No</td>\n",
       "      <td>No</td>\n",
       "      <td>729.526495</td>\n",
       "      <td>44361.62507</td>\n",
       "    </tr>\n",
       "    <tr>\n",
       "      <th>1</th>\n",
       "      <td>2</td>\n",
       "      <td>No</td>\n",
       "      <td>Yes</td>\n",
       "      <td>817.180407</td>\n",
       "      <td>12106.13470</td>\n",
       "    </tr>\n",
       "    <tr>\n",
       "      <th>2</th>\n",
       "      <td>3</td>\n",
       "      <td>No</td>\n",
       "      <td>No</td>\n",
       "      <td>1073.549164</td>\n",
       "      <td>31767.13895</td>\n",
       "    </tr>\n",
       "    <tr>\n",
       "      <th>3</th>\n",
       "      <td>4</td>\n",
       "      <td>No</td>\n",
       "      <td>No</td>\n",
       "      <td>529.250605</td>\n",
       "      <td>35704.49394</td>\n",
       "    </tr>\n",
       "    <tr>\n",
       "      <th>4</th>\n",
       "      <td>5</td>\n",
       "      <td>No</td>\n",
       "      <td>No</td>\n",
       "      <td>785.655883</td>\n",
       "      <td>38463.49588</td>\n",
       "    </tr>\n",
       "    <tr>\n",
       "      <th>...</th>\n",
       "      <td>...</td>\n",
       "      <td>...</td>\n",
       "      <td>...</td>\n",
       "      <td>...</td>\n",
       "      <td>...</td>\n",
       "    </tr>\n",
       "    <tr>\n",
       "      <th>9995</th>\n",
       "      <td>9996</td>\n",
       "      <td>No</td>\n",
       "      <td>No</td>\n",
       "      <td>711.555020</td>\n",
       "      <td>52992.37891</td>\n",
       "    </tr>\n",
       "    <tr>\n",
       "      <th>9996</th>\n",
       "      <td>9997</td>\n",
       "      <td>No</td>\n",
       "      <td>No</td>\n",
       "      <td>757.962918</td>\n",
       "      <td>19660.72177</td>\n",
       "    </tr>\n",
       "    <tr>\n",
       "      <th>9997</th>\n",
       "      <td>9998</td>\n",
       "      <td>No</td>\n",
       "      <td>No</td>\n",
       "      <td>845.411989</td>\n",
       "      <td>58636.15698</td>\n",
       "    </tr>\n",
       "    <tr>\n",
       "      <th>9998</th>\n",
       "      <td>9999</td>\n",
       "      <td>No</td>\n",
       "      <td>No</td>\n",
       "      <td>1569.009053</td>\n",
       "      <td>36669.11236</td>\n",
       "    </tr>\n",
       "    <tr>\n",
       "      <th>9999</th>\n",
       "      <td>10000</td>\n",
       "      <td>No</td>\n",
       "      <td>Yes</td>\n",
       "      <td>200.922183</td>\n",
       "      <td>16862.95232</td>\n",
       "    </tr>\n",
       "  </tbody>\n",
       "</table>\n",
       "<p>10000 rows × 5 columns</p>\n",
       "</div>"
      ],
      "text/plain": [
       "      Unnamed: 0 default student      balance       income\n",
       "0              1      No      No   729.526495  44361.62507\n",
       "1              2      No     Yes   817.180407  12106.13470\n",
       "2              3      No      No  1073.549164  31767.13895\n",
       "3              4      No      No   529.250605  35704.49394\n",
       "4              5      No      No   785.655883  38463.49588\n",
       "...          ...     ...     ...          ...          ...\n",
       "9995        9996      No      No   711.555020  52992.37891\n",
       "9996        9997      No      No   757.962918  19660.72177\n",
       "9997        9998      No      No   845.411989  58636.15698\n",
       "9998        9999      No      No  1569.009053  36669.11236\n",
       "9999       10000      No     Yes   200.922183  16862.95232\n",
       "\n",
       "[10000 rows x 5 columns]"
      ]
     },
     "execution_count": 4,
     "metadata": {},
     "output_type": "execute_result"
    }
   ],
   "source": [
    "df"
   ]
  },
  {
   "cell_type": "code",
   "execution_count": 5,
   "id": "b572a4bc",
   "metadata": {},
   "outputs": [
    {
     "data": {
      "text/plain": [
       "array(['No', 'Yes'], dtype=object)"
      ]
     },
     "execution_count": 5,
     "metadata": {},
     "output_type": "execute_result"
    }
   ],
   "source": [
    "df['default'].unique()"
   ]
  },
  {
   "cell_type": "code",
   "execution_count": 6,
   "id": "c2a04108",
   "metadata": {},
   "outputs": [
    {
     "data": {
      "text/plain": [
       "array(['No', 'Yes'], dtype=object)"
      ]
     },
     "execution_count": 6,
     "metadata": {},
     "output_type": "execute_result"
    }
   ],
   "source": [
    "df['student'].unique()"
   ]
  },
  {
   "cell_type": "code",
   "execution_count": 7,
   "id": "406ec084",
   "metadata": {},
   "outputs": [],
   "source": [
    "df.default = df.default.replace(to_replace=['No', 'Yes'], value=[0, 1])"
   ]
  },
  {
   "cell_type": "code",
   "execution_count": 8,
   "id": "48d0eb00",
   "metadata": {},
   "outputs": [],
   "source": [
    "df.student = df.student.replace(to_replace=['No', 'Yes'], value=[0, 1])"
   ]
  },
  {
   "cell_type": "code",
   "execution_count": 9,
   "id": "fcc57df5",
   "metadata": {},
   "outputs": [],
   "source": [
    "df = df.drop('Unnamed: 0', axis=1)"
   ]
  },
  {
   "cell_type": "code",
   "execution_count": 10,
   "id": "8a2c974e",
   "metadata": {},
   "outputs": [
    {
     "data": {
      "text/html": [
       "<div>\n",
       "<style scoped>\n",
       "    .dataframe tbody tr th:only-of-type {\n",
       "        vertical-align: middle;\n",
       "    }\n",
       "\n",
       "    .dataframe tbody tr th {\n",
       "        vertical-align: top;\n",
       "    }\n",
       "\n",
       "    .dataframe thead th {\n",
       "        text-align: right;\n",
       "    }\n",
       "</style>\n",
       "<table border=\"1\" class=\"dataframe\">\n",
       "  <thead>\n",
       "    <tr style=\"text-align: right;\">\n",
       "      <th></th>\n",
       "      <th>default</th>\n",
       "      <th>student</th>\n",
       "      <th>balance</th>\n",
       "      <th>income</th>\n",
       "    </tr>\n",
       "  </thead>\n",
       "  <tbody>\n",
       "    <tr>\n",
       "      <th>0</th>\n",
       "      <td>0</td>\n",
       "      <td>0</td>\n",
       "      <td>729.526495</td>\n",
       "      <td>44361.62507</td>\n",
       "    </tr>\n",
       "    <tr>\n",
       "      <th>1</th>\n",
       "      <td>0</td>\n",
       "      <td>1</td>\n",
       "      <td>817.180407</td>\n",
       "      <td>12106.13470</td>\n",
       "    </tr>\n",
       "    <tr>\n",
       "      <th>2</th>\n",
       "      <td>0</td>\n",
       "      <td>0</td>\n",
       "      <td>1073.549164</td>\n",
       "      <td>31767.13895</td>\n",
       "    </tr>\n",
       "    <tr>\n",
       "      <th>3</th>\n",
       "      <td>0</td>\n",
       "      <td>0</td>\n",
       "      <td>529.250605</td>\n",
       "      <td>35704.49394</td>\n",
       "    </tr>\n",
       "    <tr>\n",
       "      <th>4</th>\n",
       "      <td>0</td>\n",
       "      <td>0</td>\n",
       "      <td>785.655883</td>\n",
       "      <td>38463.49588</td>\n",
       "    </tr>\n",
       "  </tbody>\n",
       "</table>\n",
       "</div>"
      ],
      "text/plain": [
       "   default  student      balance       income\n",
       "0        0        0   729.526495  44361.62507\n",
       "1        0        1   817.180407  12106.13470\n",
       "2        0        0  1073.549164  31767.13895\n",
       "3        0        0   529.250605  35704.49394\n",
       "4        0        0   785.655883  38463.49588"
      ]
     },
     "execution_count": 10,
     "metadata": {},
     "output_type": "execute_result"
    }
   ],
   "source": [
    "df.head()"
   ]
  },
  {
   "cell_type": "markdown",
   "id": "524a2e77",
   "metadata": {},
   "source": [
    "# Phik"
   ]
  },
  {
   "cell_type": "code",
   "execution_count": 11,
   "id": "625766b1",
   "metadata": {},
   "outputs": [],
   "source": [
    "import phik"
   ]
  },
  {
   "cell_type": "code",
   "execution_count": 12,
   "id": "9868e241",
   "metadata": {},
   "outputs": [
    {
     "name": "stdout",
     "output_type": "stream",
     "text": [
      "interval columns not set, guessing: ['default', 'student', 'balance', 'income']\n"
     ]
    },
    {
     "data": {
      "text/html": [
       "<div>\n",
       "<style scoped>\n",
       "    .dataframe tbody tr th:only-of-type {\n",
       "        vertical-align: middle;\n",
       "    }\n",
       "\n",
       "    .dataframe tbody tr th {\n",
       "        vertical-align: top;\n",
       "    }\n",
       "\n",
       "    .dataframe thead th {\n",
       "        text-align: right;\n",
       "    }\n",
       "</style>\n",
       "<table border=\"1\" class=\"dataframe\">\n",
       "  <thead>\n",
       "    <tr style=\"text-align: right;\">\n",
       "      <th></th>\n",
       "      <th>default</th>\n",
       "      <th>student</th>\n",
       "      <th>balance</th>\n",
       "      <th>income</th>\n",
       "    </tr>\n",
       "  </thead>\n",
       "  <tbody>\n",
       "    <tr>\n",
       "      <th>default</th>\n",
       "      <td>1.000000</td>\n",
       "      <td>0.052353</td>\n",
       "      <td>0.712380</td>\n",
       "      <td>0.032708</td>\n",
       "    </tr>\n",
       "    <tr>\n",
       "      <th>student</th>\n",
       "      <td>0.052353</td>\n",
       "      <td>1.000000</td>\n",
       "      <td>0.257984</td>\n",
       "      <td>0.972309</td>\n",
       "    </tr>\n",
       "    <tr>\n",
       "      <th>balance</th>\n",
       "      <td>0.712380</td>\n",
       "      <td>0.257984</td>\n",
       "      <td>1.000000</td>\n",
       "      <td>0.168739</td>\n",
       "    </tr>\n",
       "    <tr>\n",
       "      <th>income</th>\n",
       "      <td>0.032708</td>\n",
       "      <td>0.972309</td>\n",
       "      <td>0.168739</td>\n",
       "      <td>1.000000</td>\n",
       "    </tr>\n",
       "  </tbody>\n",
       "</table>\n",
       "</div>"
      ],
      "text/plain": [
       "          default   student   balance    income\n",
       "default  1.000000  0.052353  0.712380  0.032708\n",
       "student  0.052353  1.000000  0.257984  0.972309\n",
       "balance  0.712380  0.257984  1.000000  0.168739\n",
       "income   0.032708  0.972309  0.168739  1.000000"
      ]
     },
     "execution_count": 12,
     "metadata": {},
     "output_type": "execute_result"
    }
   ],
   "source": [
    "df.phik_matrix()"
   ]
  },
  {
   "cell_type": "code",
   "execution_count": 13,
   "id": "835fd03a",
   "metadata": {},
   "outputs": [
    {
     "name": "stdout",
     "output_type": "stream",
     "text": [
      "interval columns not set, guessing: ['default', 'student', 'balance', 'income']\n"
     ]
    },
    {
     "data": {
      "text/plain": [
       "default    1.000000\n",
       "balance    0.712380\n",
       "student    0.052353\n",
       "income     0.032708\n",
       "Name: default, dtype: float64"
      ]
     },
     "execution_count": 13,
     "metadata": {},
     "output_type": "execute_result"
    }
   ],
   "source": [
    "df.phik_matrix()['default'].sort_values(ascending=False)"
   ]
  },
  {
   "cell_type": "code",
   "execution_count": 14,
   "id": "62c302cd",
   "metadata": {},
   "outputs": [
    {
     "data": {
      "text/plain": [
       "default    0\n",
       "student    0\n",
       "balance    0\n",
       "income     0\n",
       "dtype: int64"
      ]
     },
     "execution_count": 14,
     "metadata": {},
     "output_type": "execute_result"
    }
   ],
   "source": [
    "df.isna().sum()"
   ]
  },
  {
   "cell_type": "code",
   "execution_count": 15,
   "id": "8c60eba0",
   "metadata": {},
   "outputs": [
    {
     "data": {
      "text/plain": [
       "0    9667\n",
       "1     333\n",
       "Name: default, dtype: int64"
      ]
     },
     "execution_count": 15,
     "metadata": {},
     "output_type": "execute_result"
    }
   ],
   "source": [
    "df['default'].value_counts()"
   ]
  },
  {
   "cell_type": "code",
   "execution_count": 15,
   "id": "3b016b40",
   "metadata": {},
   "outputs": [
    {
     "data": {
      "text/plain": [
       "0.0333"
      ]
     },
     "execution_count": 15,
     "metadata": {},
     "output_type": "execute_result"
    }
   ],
   "source": [
    "df['default'].mean()"
   ]
  },
  {
   "cell_type": "markdown",
   "id": "555c264b",
   "metadata": {},
   "source": [
    "# Training, validation and test sample"
   ]
  },
  {
   "cell_type": "code",
   "execution_count": 16,
   "id": "e16f7558",
   "metadata": {},
   "outputs": [],
   "source": [
    "from sklearn.model_selection import train_test_split"
   ]
  },
  {
   "cell_type": "code",
   "execution_count": 17,
   "id": "296866f4",
   "metadata": {},
   "outputs": [],
   "source": [
    "train, test = train_test_split(df,train_size=0.6,random_state=42,stratify=df['default'])"
   ]
  },
  {
   "cell_type": "code",
   "execution_count": 18,
   "id": "890ea704",
   "metadata": {},
   "outputs": [],
   "source": [
    "val, test = train_test_split(test,train_size=0.5,random_state=42,stratify=test['default'])"
   ]
  },
  {
   "cell_type": "code",
   "execution_count": 19,
   "id": "71a346a5",
   "metadata": {},
   "outputs": [
    {
     "data": {
      "text/plain": [
       "0.0333"
      ]
     },
     "execution_count": 19,
     "metadata": {},
     "output_type": "execute_result"
    }
   ],
   "source": [
    "df.default.mean()"
   ]
  },
  {
   "cell_type": "markdown",
   "id": "3d5322f0",
   "metadata": {},
   "source": [
    "# Human learning"
   ]
  },
  {
   "cell_type": "code",
   "execution_count": 20,
   "id": "3ba80f11",
   "metadata": {},
   "outputs": [],
   "source": [
    "train_full = pd.concat([train,val])"
   ]
  },
  {
   "cell_type": "code",
   "execution_count": 21,
   "id": "450c7e4e",
   "metadata": {},
   "outputs": [
    {
     "data": {
      "text/html": [
       "<div>\n",
       "<style scoped>\n",
       "    .dataframe tbody tr th:only-of-type {\n",
       "        vertical-align: middle;\n",
       "    }\n",
       "\n",
       "    .dataframe tbody tr th {\n",
       "        vertical-align: top;\n",
       "    }\n",
       "\n",
       "    .dataframe thead th {\n",
       "        text-align: right;\n",
       "    }\n",
       "</style>\n",
       "<table border=\"1\" class=\"dataframe\">\n",
       "  <thead>\n",
       "    <tr style=\"text-align: right;\">\n",
       "      <th></th>\n",
       "      <th>count</th>\n",
       "      <th>mean</th>\n",
       "    </tr>\n",
       "    <tr>\n",
       "      <th>balance</th>\n",
       "      <th></th>\n",
       "      <th></th>\n",
       "    </tr>\n",
       "  </thead>\n",
       "  <tbody>\n",
       "    <tr>\n",
       "      <th>0.000000</th>\n",
       "      <td>389</td>\n",
       "      <td>0.0</td>\n",
       "    </tr>\n",
       "    <tr>\n",
       "      <th>0.023816</th>\n",
       "      <td>1</td>\n",
       "      <td>0.0</td>\n",
       "    </tr>\n",
       "    <tr>\n",
       "      <th>1.611176</th>\n",
       "      <td>1</td>\n",
       "      <td>0.0</td>\n",
       "    </tr>\n",
       "    <tr>\n",
       "      <th>1.976692</th>\n",
       "      <td>1</td>\n",
       "      <td>0.0</td>\n",
       "    </tr>\n",
       "    <tr>\n",
       "      <th>2.843015</th>\n",
       "      <td>1</td>\n",
       "      <td>0.0</td>\n",
       "    </tr>\n",
       "    <tr>\n",
       "      <th>...</th>\n",
       "      <td>...</td>\n",
       "      <td>...</td>\n",
       "    </tr>\n",
       "    <tr>\n",
       "      <th>2415.316994</th>\n",
       "      <td>1</td>\n",
       "      <td>1.0</td>\n",
       "    </tr>\n",
       "    <tr>\n",
       "      <th>2461.506979</th>\n",
       "      <td>1</td>\n",
       "      <td>1.0</td>\n",
       "    </tr>\n",
       "    <tr>\n",
       "      <th>2502.684931</th>\n",
       "      <td>1</td>\n",
       "      <td>1.0</td>\n",
       "    </tr>\n",
       "    <tr>\n",
       "      <th>2578.469022</th>\n",
       "      <td>1</td>\n",
       "      <td>1.0</td>\n",
       "    </tr>\n",
       "    <tr>\n",
       "      <th>2654.322576</th>\n",
       "      <td>1</td>\n",
       "      <td>1.0</td>\n",
       "    </tr>\n",
       "  </tbody>\n",
       "</table>\n",
       "<p>7612 rows × 2 columns</p>\n",
       "</div>"
      ],
      "text/plain": [
       "             count  mean\n",
       "balance                 \n",
       "0.000000       389   0.0\n",
       "0.023816         1   0.0\n",
       "1.611176         1   0.0\n",
       "1.976692         1   0.0\n",
       "2.843015         1   0.0\n",
       "...            ...   ...\n",
       "2415.316994      1   1.0\n",
       "2461.506979      1   1.0\n",
       "2502.684931      1   1.0\n",
       "2578.469022      1   1.0\n",
       "2654.322576      1   1.0\n",
       "\n",
       "[7612 rows x 2 columns]"
      ]
     },
     "execution_count": 21,
     "metadata": {},
     "output_type": "execute_result"
    }
   ],
   "source": [
    "train_full.groupby('balance')['default'].agg(['count','mean'])"
   ]
  },
  {
   "cell_type": "code",
   "execution_count": 22,
   "id": "5822c401",
   "metadata": {},
   "outputs": [],
   "source": [
    "train_full['balance_group'] = pd.cut(train_full['balance'],[-float('inf'),250,500,750,1000,1250,1500,1750,2000,2250,2500,float('inf')])"
   ]
  },
  {
   "cell_type": "code",
   "execution_count": 23,
   "id": "f6dbb506",
   "metadata": {},
   "outputs": [
    {
     "data": {
      "text/html": [
       "<div>\n",
       "<style scoped>\n",
       "    .dataframe tbody tr th:only-of-type {\n",
       "        vertical-align: middle;\n",
       "    }\n",
       "\n",
       "    .dataframe tbody tr th {\n",
       "        vertical-align: top;\n",
       "    }\n",
       "\n",
       "    .dataframe thead th {\n",
       "        text-align: right;\n",
       "    }\n",
       "</style>\n",
       "<table border=\"1\" class=\"dataframe\">\n",
       "  <thead>\n",
       "    <tr style=\"text-align: right;\">\n",
       "      <th></th>\n",
       "      <th>count</th>\n",
       "      <th>mean</th>\n",
       "    </tr>\n",
       "    <tr>\n",
       "      <th>balance_group</th>\n",
       "      <th></th>\n",
       "      <th></th>\n",
       "    </tr>\n",
       "  </thead>\n",
       "  <tbody>\n",
       "    <tr>\n",
       "      <th>(-inf, 250.0]</th>\n",
       "      <td>979</td>\n",
       "      <td>0.000000</td>\n",
       "    </tr>\n",
       "    <tr>\n",
       "      <th>(250.0, 500.0]</th>\n",
       "      <td>1080</td>\n",
       "      <td>0.000000</td>\n",
       "    </tr>\n",
       "    <tr>\n",
       "      <th>(500.0, 750.0]</th>\n",
       "      <td>1450</td>\n",
       "      <td>0.001379</td>\n",
       "    </tr>\n",
       "    <tr>\n",
       "      <th>(750.0, 1000.0]</th>\n",
       "      <td>1590</td>\n",
       "      <td>0.001887</td>\n",
       "    </tr>\n",
       "    <tr>\n",
       "      <th>(1000.0, 1250.0]</th>\n",
       "      <td>1309</td>\n",
       "      <td>0.012223</td>\n",
       "    </tr>\n",
       "    <tr>\n",
       "      <th>(1250.0, 1500.0]</th>\n",
       "      <td>863</td>\n",
       "      <td>0.048667</td>\n",
       "    </tr>\n",
       "    <tr>\n",
       "      <th>(1500.0, 1750.0]</th>\n",
       "      <td>452</td>\n",
       "      <td>0.143805</td>\n",
       "    </tr>\n",
       "    <tr>\n",
       "      <th>(1750.0, 2000.0]</th>\n",
       "      <td>199</td>\n",
       "      <td>0.402010</td>\n",
       "    </tr>\n",
       "    <tr>\n",
       "      <th>(2000.0, 2250.0]</th>\n",
       "      <td>63</td>\n",
       "      <td>0.746032</td>\n",
       "    </tr>\n",
       "    <tr>\n",
       "      <th>(2250.0, 2500.0]</th>\n",
       "      <td>12</td>\n",
       "      <td>0.750000</td>\n",
       "    </tr>\n",
       "    <tr>\n",
       "      <th>(2500.0, inf]</th>\n",
       "      <td>3</td>\n",
       "      <td>1.000000</td>\n",
       "    </tr>\n",
       "  </tbody>\n",
       "</table>\n",
       "</div>"
      ],
      "text/plain": [
       "                  count      mean\n",
       "balance_group                    \n",
       "(-inf, 250.0]       979  0.000000\n",
       "(250.0, 500.0]     1080  0.000000\n",
       "(500.0, 750.0]     1450  0.001379\n",
       "(750.0, 1000.0]    1590  0.001887\n",
       "(1000.0, 1250.0]   1309  0.012223\n",
       "(1250.0, 1500.0]    863  0.048667\n",
       "(1500.0, 1750.0]    452  0.143805\n",
       "(1750.0, 2000.0]    199  0.402010\n",
       "(2000.0, 2250.0]     63  0.746032\n",
       "(2250.0, 2500.0]     12  0.750000\n",
       "(2500.0, inf]         3  1.000000"
      ]
     },
     "execution_count": 23,
     "metadata": {},
     "output_type": "execute_result"
    }
   ],
   "source": [
    "train_full.groupby('balance_group')['default'].agg(['count','mean'])"
   ]
  },
  {
   "cell_type": "code",
   "execution_count": 24,
   "id": "624da0b6",
   "metadata": {},
   "outputs": [],
   "source": [
    "model = train_full.groupby('balance_group')['default'].mean().reset_index()"
   ]
  },
  {
   "cell_type": "code",
   "execution_count": 25,
   "id": "87cde2bd",
   "metadata": {},
   "outputs": [],
   "source": [
    "model = model.rename({'default':'score_balance'},axis=1)"
   ]
  },
  {
   "cell_type": "code",
   "execution_count": 26,
   "id": "b2e76cb4",
   "metadata": {},
   "outputs": [],
   "source": [
    "train_full = train_full.merge(model,how='left',on='balance_group')"
   ]
  },
  {
   "cell_type": "code",
   "execution_count": 27,
   "id": "7bc12f43",
   "metadata": {},
   "outputs": [
    {
     "data": {
      "text/html": [
       "<div>\n",
       "<style scoped>\n",
       "    .dataframe tbody tr th:only-of-type {\n",
       "        vertical-align: middle;\n",
       "    }\n",
       "\n",
       "    .dataframe tbody tr th {\n",
       "        vertical-align: top;\n",
       "    }\n",
       "\n",
       "    .dataframe thead th {\n",
       "        text-align: right;\n",
       "    }\n",
       "</style>\n",
       "<table border=\"1\" class=\"dataframe\">\n",
       "  <thead>\n",
       "    <tr style=\"text-align: right;\">\n",
       "      <th></th>\n",
       "      <th>count</th>\n",
       "      <th>mean</th>\n",
       "    </tr>\n",
       "    <tr>\n",
       "      <th>score_balance</th>\n",
       "      <th></th>\n",
       "      <th></th>\n",
       "    </tr>\n",
       "  </thead>\n",
       "  <tbody>\n",
       "    <tr>\n",
       "      <th>0.000000</th>\n",
       "      <td>2059</td>\n",
       "      <td>0.000000</td>\n",
       "    </tr>\n",
       "    <tr>\n",
       "      <th>0.001379</th>\n",
       "      <td>1450</td>\n",
       "      <td>0.001379</td>\n",
       "    </tr>\n",
       "    <tr>\n",
       "      <th>0.001887</th>\n",
       "      <td>1590</td>\n",
       "      <td>0.001887</td>\n",
       "    </tr>\n",
       "    <tr>\n",
       "      <th>0.012223</th>\n",
       "      <td>1309</td>\n",
       "      <td>0.012223</td>\n",
       "    </tr>\n",
       "    <tr>\n",
       "      <th>0.048667</th>\n",
       "      <td>863</td>\n",
       "      <td>0.048667</td>\n",
       "    </tr>\n",
       "    <tr>\n",
       "      <th>0.143805</th>\n",
       "      <td>452</td>\n",
       "      <td>0.143805</td>\n",
       "    </tr>\n",
       "    <tr>\n",
       "      <th>0.402010</th>\n",
       "      <td>199</td>\n",
       "      <td>0.402010</td>\n",
       "    </tr>\n",
       "    <tr>\n",
       "      <th>0.746032</th>\n",
       "      <td>63</td>\n",
       "      <td>0.746032</td>\n",
       "    </tr>\n",
       "    <tr>\n",
       "      <th>0.750000</th>\n",
       "      <td>12</td>\n",
       "      <td>0.750000</td>\n",
       "    </tr>\n",
       "    <tr>\n",
       "      <th>1.000000</th>\n",
       "      <td>3</td>\n",
       "      <td>1.000000</td>\n",
       "    </tr>\n",
       "  </tbody>\n",
       "</table>\n",
       "</div>"
      ],
      "text/plain": [
       "               count      mean\n",
       "score_balance                 \n",
       "0.000000        2059  0.000000\n",
       "0.001379        1450  0.001379\n",
       "0.001887        1590  0.001887\n",
       "0.012223        1309  0.012223\n",
       "0.048667         863  0.048667\n",
       "0.143805         452  0.143805\n",
       "0.402010         199  0.402010\n",
       "0.746032          63  0.746032\n",
       "0.750000          12  0.750000\n",
       "1.000000           3  1.000000"
      ]
     },
     "execution_count": 27,
     "metadata": {},
     "output_type": "execute_result"
    }
   ],
   "source": [
    "train_full.groupby('score_balance')['default'].agg(['count','mean'])"
   ]
  },
  {
   "cell_type": "code",
   "execution_count": 28,
   "id": "916ed94c",
   "metadata": {},
   "outputs": [
    {
     "data": {
      "text/html": [
       "<div>\n",
       "<style scoped>\n",
       "    .dataframe tbody tr th:only-of-type {\n",
       "        vertical-align: middle;\n",
       "    }\n",
       "\n",
       "    .dataframe tbody tr th {\n",
       "        vertical-align: top;\n",
       "    }\n",
       "\n",
       "    .dataframe thead th {\n",
       "        text-align: right;\n",
       "    }\n",
       "</style>\n",
       "<table border=\"1\" class=\"dataframe\">\n",
       "  <thead>\n",
       "    <tr style=\"text-align: right;\">\n",
       "      <th></th>\n",
       "      <th>default</th>\n",
       "      <th>student</th>\n",
       "      <th>balance</th>\n",
       "      <th>income</th>\n",
       "      <th>balance_group</th>\n",
       "      <th>score_balance</th>\n",
       "    </tr>\n",
       "  </thead>\n",
       "  <tbody>\n",
       "    <tr>\n",
       "      <th>0</th>\n",
       "      <td>0</td>\n",
       "      <td>0</td>\n",
       "      <td>1491.479282</td>\n",
       "      <td>54835.77005</td>\n",
       "      <td>(1250.0, 1500.0]</td>\n",
       "      <td>0.048667</td>\n",
       "    </tr>\n",
       "    <tr>\n",
       "      <th>1</th>\n",
       "      <td>0</td>\n",
       "      <td>0</td>\n",
       "      <td>813.200651</td>\n",
       "      <td>49477.51151</td>\n",
       "      <td>(750.0, 1000.0]</td>\n",
       "      <td>0.001887</td>\n",
       "    </tr>\n",
       "    <tr>\n",
       "      <th>2</th>\n",
       "      <td>0</td>\n",
       "      <td>0</td>\n",
       "      <td>1406.947652</td>\n",
       "      <td>27667.83603</td>\n",
       "      <td>(1250.0, 1500.0]</td>\n",
       "      <td>0.048667</td>\n",
       "    </tr>\n",
       "    <tr>\n",
       "      <th>3</th>\n",
       "      <td>0</td>\n",
       "      <td>0</td>\n",
       "      <td>252.106954</td>\n",
       "      <td>38494.65469</td>\n",
       "      <td>(250.0, 500.0]</td>\n",
       "      <td>0.000000</td>\n",
       "    </tr>\n",
       "    <tr>\n",
       "      <th>4</th>\n",
       "      <td>0</td>\n",
       "      <td>1</td>\n",
       "      <td>1276.667762</td>\n",
       "      <td>19073.10852</td>\n",
       "      <td>(1250.0, 1500.0]</td>\n",
       "      <td>0.048667</td>\n",
       "    </tr>\n",
       "  </tbody>\n",
       "</table>\n",
       "</div>"
      ],
      "text/plain": [
       "   default  student      balance       income     balance_group  score_balance\n",
       "0        0        0  1491.479282  54835.77005  (1250.0, 1500.0]       0.048667\n",
       "1        0        0   813.200651  49477.51151   (750.0, 1000.0]       0.001887\n",
       "2        0        0  1406.947652  27667.83603  (1250.0, 1500.0]       0.048667\n",
       "3        0        0   252.106954  38494.65469    (250.0, 500.0]       0.000000\n",
       "4        0        1  1276.667762  19073.10852  (1250.0, 1500.0]       0.048667"
      ]
     },
     "execution_count": 28,
     "metadata": {},
     "output_type": "execute_result"
    }
   ],
   "source": [
    "train_full.head()"
   ]
  },
  {
   "cell_type": "code",
   "execution_count": 29,
   "id": "c1c79004",
   "metadata": {},
   "outputs": [
    {
     "data": {
      "text/plain": [
       "default          0\n",
       "student          0\n",
       "balance          0\n",
       "income           0\n",
       "balance_group    0\n",
       "score_balance    0\n",
       "dtype: int64"
      ]
     },
     "execution_count": 29,
     "metadata": {},
     "output_type": "execute_result"
    }
   ],
   "source": [
    "train_full.isna().sum()"
   ]
  },
  {
   "cell_type": "markdown",
   "id": "038a9fc9",
   "metadata": {},
   "source": [
    "# Baseline"
   ]
  },
  {
   "cell_type": "code",
   "execution_count": 30,
   "id": "60a08358",
   "metadata": {},
   "outputs": [],
   "source": [
    "from sklearn.metrics import log_loss"
   ]
  },
  {
   "cell_type": "code",
   "execution_count": 31,
   "id": "bfb98999",
   "metadata": {},
   "outputs": [],
   "source": [
    "train_full['score_mean'] = train_full['default'].mean()"
   ]
  },
  {
   "cell_type": "code",
   "execution_count": 32,
   "id": "f1d74843",
   "metadata": {},
   "outputs": [
    {
     "data": {
      "text/plain": [
       "0.1462850230726558"
      ]
     },
     "execution_count": 32,
     "metadata": {},
     "output_type": "execute_result"
    }
   ],
   "source": [
    "log_loss(train_full['default'],train_full['score_mean'])"
   ]
  },
  {
   "cell_type": "code",
   "execution_count": 33,
   "id": "ff08a912",
   "metadata": {},
   "outputs": [
    {
     "data": {
      "text/plain": [
       "0.0817439427656515"
      ]
     },
     "execution_count": 33,
     "metadata": {},
     "output_type": "execute_result"
    }
   ],
   "source": [
    "log_loss(train_full['default'],train_full['score_balance'])"
   ]
  },
  {
   "cell_type": "code",
   "execution_count": 34,
   "id": "2f163ef1",
   "metadata": {},
   "outputs": [
    {
     "data": {
      "text/html": [
       "<div>\n",
       "<style scoped>\n",
       "    .dataframe tbody tr th:only-of-type {\n",
       "        vertical-align: middle;\n",
       "    }\n",
       "\n",
       "    .dataframe tbody tr th {\n",
       "        vertical-align: top;\n",
       "    }\n",
       "\n",
       "    .dataframe thead th {\n",
       "        text-align: right;\n",
       "    }\n",
       "</style>\n",
       "<table border=\"1\" class=\"dataframe\">\n",
       "  <thead>\n",
       "    <tr style=\"text-align: right;\">\n",
       "      <th></th>\n",
       "      <th>default</th>\n",
       "      <th>student</th>\n",
       "      <th>balance</th>\n",
       "      <th>income</th>\n",
       "      <th>balance_group</th>\n",
       "      <th>score_balance</th>\n",
       "      <th>score_mean</th>\n",
       "    </tr>\n",
       "  </thead>\n",
       "  <tbody>\n",
       "    <tr>\n",
       "      <th>0</th>\n",
       "      <td>0</td>\n",
       "      <td>0</td>\n",
       "      <td>1491.479282</td>\n",
       "      <td>54835.77005</td>\n",
       "      <td>(1250.0, 1500.0]</td>\n",
       "      <td>0.048667</td>\n",
       "      <td>0.033375</td>\n",
       "    </tr>\n",
       "    <tr>\n",
       "      <th>1</th>\n",
       "      <td>0</td>\n",
       "      <td>0</td>\n",
       "      <td>813.200651</td>\n",
       "      <td>49477.51151</td>\n",
       "      <td>(750.0, 1000.0]</td>\n",
       "      <td>0.001887</td>\n",
       "      <td>0.033375</td>\n",
       "    </tr>\n",
       "    <tr>\n",
       "      <th>2</th>\n",
       "      <td>0</td>\n",
       "      <td>0</td>\n",
       "      <td>1406.947652</td>\n",
       "      <td>27667.83603</td>\n",
       "      <td>(1250.0, 1500.0]</td>\n",
       "      <td>0.048667</td>\n",
       "      <td>0.033375</td>\n",
       "    </tr>\n",
       "    <tr>\n",
       "      <th>3</th>\n",
       "      <td>0</td>\n",
       "      <td>0</td>\n",
       "      <td>252.106954</td>\n",
       "      <td>38494.65469</td>\n",
       "      <td>(250.0, 500.0]</td>\n",
       "      <td>0.000000</td>\n",
       "      <td>0.033375</td>\n",
       "    </tr>\n",
       "    <tr>\n",
       "      <th>4</th>\n",
       "      <td>0</td>\n",
       "      <td>1</td>\n",
       "      <td>1276.667762</td>\n",
       "      <td>19073.10852</td>\n",
       "      <td>(1250.0, 1500.0]</td>\n",
       "      <td>0.048667</td>\n",
       "      <td>0.033375</td>\n",
       "    </tr>\n",
       "    <tr>\n",
       "      <th>...</th>\n",
       "      <td>...</td>\n",
       "      <td>...</td>\n",
       "      <td>...</td>\n",
       "      <td>...</td>\n",
       "      <td>...</td>\n",
       "      <td>...</td>\n",
       "      <td>...</td>\n",
       "    </tr>\n",
       "    <tr>\n",
       "      <th>7995</th>\n",
       "      <td>0</td>\n",
       "      <td>0</td>\n",
       "      <td>783.087084</td>\n",
       "      <td>36917.10317</td>\n",
       "      <td>(750.0, 1000.0]</td>\n",
       "      <td>0.001887</td>\n",
       "      <td>0.033375</td>\n",
       "    </tr>\n",
       "    <tr>\n",
       "      <th>7996</th>\n",
       "      <td>0</td>\n",
       "      <td>0</td>\n",
       "      <td>194.554390</td>\n",
       "      <td>38794.14591</td>\n",
       "      <td>(-inf, 250.0]</td>\n",
       "      <td>0.000000</td>\n",
       "      <td>0.033375</td>\n",
       "    </tr>\n",
       "    <tr>\n",
       "      <th>7997</th>\n",
       "      <td>0</td>\n",
       "      <td>1</td>\n",
       "      <td>743.415446</td>\n",
       "      <td>19610.17998</td>\n",
       "      <td>(500.0, 750.0]</td>\n",
       "      <td>0.001379</td>\n",
       "      <td>0.033375</td>\n",
       "    </tr>\n",
       "    <tr>\n",
       "      <th>7998</th>\n",
       "      <td>0</td>\n",
       "      <td>0</td>\n",
       "      <td>364.773884</td>\n",
       "      <td>31857.18073</td>\n",
       "      <td>(250.0, 500.0]</td>\n",
       "      <td>0.000000</td>\n",
       "      <td>0.033375</td>\n",
       "    </tr>\n",
       "    <tr>\n",
       "      <th>7999</th>\n",
       "      <td>0</td>\n",
       "      <td>1</td>\n",
       "      <td>1427.940531</td>\n",
       "      <td>12666.26077</td>\n",
       "      <td>(1250.0, 1500.0]</td>\n",
       "      <td>0.048667</td>\n",
       "      <td>0.033375</td>\n",
       "    </tr>\n",
       "  </tbody>\n",
       "</table>\n",
       "<p>8000 rows × 7 columns</p>\n",
       "</div>"
      ],
      "text/plain": [
       "      default  student      balance       income     balance_group  \\\n",
       "0           0        0  1491.479282  54835.77005  (1250.0, 1500.0]   \n",
       "1           0        0   813.200651  49477.51151   (750.0, 1000.0]   \n",
       "2           0        0  1406.947652  27667.83603  (1250.0, 1500.0]   \n",
       "3           0        0   252.106954  38494.65469    (250.0, 500.0]   \n",
       "4           0        1  1276.667762  19073.10852  (1250.0, 1500.0]   \n",
       "...       ...      ...          ...          ...               ...   \n",
       "7995        0        0   783.087084  36917.10317   (750.0, 1000.0]   \n",
       "7996        0        0   194.554390  38794.14591     (-inf, 250.0]   \n",
       "7997        0        1   743.415446  19610.17998    (500.0, 750.0]   \n",
       "7998        0        0   364.773884  31857.18073    (250.0, 500.0]   \n",
       "7999        0        1  1427.940531  12666.26077  (1250.0, 1500.0]   \n",
       "\n",
       "      score_balance  score_mean  \n",
       "0          0.048667    0.033375  \n",
       "1          0.001887    0.033375  \n",
       "2          0.048667    0.033375  \n",
       "3          0.000000    0.033375  \n",
       "4          0.048667    0.033375  \n",
       "...             ...         ...  \n",
       "7995       0.001887    0.033375  \n",
       "7996       0.000000    0.033375  \n",
       "7997       0.001379    0.033375  \n",
       "7998       0.000000    0.033375  \n",
       "7999       0.048667    0.033375  \n",
       "\n",
       "[8000 rows x 7 columns]"
      ]
     },
     "execution_count": 34,
     "metadata": {},
     "output_type": "execute_result"
    }
   ],
   "source": [
    "train_full"
   ]
  },
  {
   "cell_type": "markdown",
   "id": "a8bedd23",
   "metadata": {},
   "source": [
    "# Uplift"
   ]
  },
  {
   "cell_type": "code",
   "execution_count": 35,
   "id": "4f43a3ce",
   "metadata": {},
   "outputs": [],
   "source": [
    "def uplift(df,score,pct):\n",
    "    default_all = df['default'].sum()\n",
    "    df = df.sort_values(score,ascending=False)\n",
    "    default_found = df.head(round(len(df) * pct))['default'].sum()\n",
    "\n",
    "    return (default_found / default_all) / pct"
   ]
  },
  {
   "cell_type": "code",
   "execution_count": 36,
   "id": "23bfcd48",
   "metadata": {},
   "outputs": [
    {
     "data": {
      "text/plain": [
       "4.606741573033708"
      ]
     },
     "execution_count": 36,
     "metadata": {},
     "output_type": "execute_result"
    }
   ],
   "source": [
    "uplift(train_full,'score_balance',0.2)"
   ]
  },
  {
   "cell_type": "code",
   "execution_count": 37,
   "id": "f2c26979",
   "metadata": {},
   "outputs": [
    {
     "data": {
      "text/plain": [
       "0.8614232209737828"
      ]
     },
     "execution_count": 37,
     "metadata": {},
     "output_type": "execute_result"
    }
   ],
   "source": [
    "uplift(train_full,'score_mean',0.2)"
   ]
  },
  {
   "cell_type": "code",
   "execution_count": 38,
   "id": "e6b84352",
   "metadata": {},
   "outputs": [],
   "source": [
    "test['balance_group'] = pd.cut(test['balance'],[-float('inf'),250,500,750,1000,1250,1500,1750,2000,2250,2500,float('inf')])"
   ]
  },
  {
   "cell_type": "code",
   "execution_count": 39,
   "id": "98cb0af8",
   "metadata": {},
   "outputs": [],
   "source": [
    "test = test.merge(model,how='left',on='balance_group')"
   ]
  },
  {
   "cell_type": "code",
   "execution_count": 40,
   "id": "75084229",
   "metadata": {},
   "outputs": [
    {
     "data": {
      "text/html": [
       "<div>\n",
       "<style scoped>\n",
       "    .dataframe tbody tr th:only-of-type {\n",
       "        vertical-align: middle;\n",
       "    }\n",
       "\n",
       "    .dataframe tbody tr th {\n",
       "        vertical-align: top;\n",
       "    }\n",
       "\n",
       "    .dataframe thead th {\n",
       "        text-align: right;\n",
       "    }\n",
       "</style>\n",
       "<table border=\"1\" class=\"dataframe\">\n",
       "  <thead>\n",
       "    <tr style=\"text-align: right;\">\n",
       "      <th></th>\n",
       "      <th>default</th>\n",
       "      <th>student</th>\n",
       "      <th>balance</th>\n",
       "      <th>income</th>\n",
       "      <th>balance_group</th>\n",
       "      <th>score_balance</th>\n",
       "    </tr>\n",
       "  </thead>\n",
       "  <tbody>\n",
       "    <tr>\n",
       "      <th>0</th>\n",
       "      <td>0</td>\n",
       "      <td>0</td>\n",
       "      <td>69.561798</td>\n",
       "      <td>49074.24760</td>\n",
       "      <td>(-inf, 250.0]</td>\n",
       "      <td>0.000000</td>\n",
       "    </tr>\n",
       "    <tr>\n",
       "      <th>1</th>\n",
       "      <td>0</td>\n",
       "      <td>0</td>\n",
       "      <td>536.214278</td>\n",
       "      <td>47956.52456</td>\n",
       "      <td>(500.0, 750.0]</td>\n",
       "      <td>0.001379</td>\n",
       "    </tr>\n",
       "    <tr>\n",
       "      <th>2</th>\n",
       "      <td>0</td>\n",
       "      <td>0</td>\n",
       "      <td>717.667390</td>\n",
       "      <td>27956.27352</td>\n",
       "      <td>(500.0, 750.0]</td>\n",
       "      <td>0.001379</td>\n",
       "    </tr>\n",
       "    <tr>\n",
       "      <th>3</th>\n",
       "      <td>0</td>\n",
       "      <td>0</td>\n",
       "      <td>530.547329</td>\n",
       "      <td>44627.56264</td>\n",
       "      <td>(500.0, 750.0]</td>\n",
       "      <td>0.001379</td>\n",
       "    </tr>\n",
       "    <tr>\n",
       "      <th>4</th>\n",
       "      <td>0</td>\n",
       "      <td>0</td>\n",
       "      <td>998.393070</td>\n",
       "      <td>46051.92286</td>\n",
       "      <td>(750.0, 1000.0]</td>\n",
       "      <td>0.001887</td>\n",
       "    </tr>\n",
       "  </tbody>\n",
       "</table>\n",
       "</div>"
      ],
      "text/plain": [
       "   default  student     balance       income    balance_group  score_balance\n",
       "0        0        0   69.561798  49074.24760    (-inf, 250.0]       0.000000\n",
       "1        0        0  536.214278  47956.52456   (500.0, 750.0]       0.001379\n",
       "2        0        0  717.667390  27956.27352   (500.0, 750.0]       0.001379\n",
       "3        0        0  530.547329  44627.56264   (500.0, 750.0]       0.001379\n",
       "4        0        0  998.393070  46051.92286  (750.0, 1000.0]       0.001887"
      ]
     },
     "execution_count": 40,
     "metadata": {},
     "output_type": "execute_result"
    }
   ],
   "source": [
    "test.head()"
   ]
  },
  {
   "cell_type": "code",
   "execution_count": 41,
   "id": "141ad369",
   "metadata": {},
   "outputs": [
    {
     "data": {
      "text/plain": [
       "default          0\n",
       "student          0\n",
       "balance          0\n",
       "income           0\n",
       "balance_group    0\n",
       "score_balance    0\n",
       "dtype: int64"
      ]
     },
     "execution_count": 41,
     "metadata": {},
     "output_type": "execute_result"
    }
   ],
   "source": [
    "test.isna().sum()"
   ]
  },
  {
   "cell_type": "code",
   "execution_count": 42,
   "id": "b61e10b2",
   "metadata": {},
   "outputs": [
    {
     "data": {
      "text/plain": [
       "0.0817439427656515"
      ]
     },
     "execution_count": 42,
     "metadata": {},
     "output_type": "execute_result"
    }
   ],
   "source": [
    "log_loss(train_full['default'],train_full['score_balance'])"
   ]
  },
  {
   "cell_type": "code",
   "execution_count": 43,
   "id": "de384924",
   "metadata": {},
   "outputs": [
    {
     "data": {
      "text/plain": [
       "0.0762208202534586"
      ]
     },
     "execution_count": 43,
     "metadata": {},
     "output_type": "execute_result"
    }
   ],
   "source": [
    "log_loss(test['default'],test['score_balance'])"
   ]
  },
  {
   "cell_type": "code",
   "execution_count": 46,
   "id": "35f20b7a",
   "metadata": {},
   "outputs": [
    {
     "data": {
      "text/plain": [
       "4.606741573033708"
      ]
     },
     "execution_count": 46,
     "metadata": {},
     "output_type": "execute_result"
    }
   ],
   "source": [
    "uplift(train_full,'score_balance',0.2)"
   ]
  },
  {
   "cell_type": "code",
   "execution_count": 45,
   "id": "8274b569",
   "metadata": {},
   "outputs": [
    {
     "data": {
      "text/plain": [
       "4.621212121212121"
      ]
     },
     "execution_count": 45,
     "metadata": {},
     "output_type": "execute_result"
    }
   ],
   "source": [
    "uplift(test,'score_balance',0.2)"
   ]
  },
  {
   "cell_type": "markdown",
   "id": "83921ead",
   "metadata": {},
   "source": [
    "# Add a student"
   ]
  },
  {
   "cell_type": "code",
   "execution_count": 48,
   "id": "abe974e1",
   "metadata": {},
   "outputs": [],
   "source": [
    "model = train_full.groupby(['balance_group', 'student'])['default'].mean().reset_index()"
   ]
  },
  {
   "cell_type": "code",
   "execution_count": 49,
   "id": "a442595e",
   "metadata": {},
   "outputs": [],
   "source": [
    "model = model.rename({'default':'score_balance_student'},axis=1)"
   ]
  },
  {
   "cell_type": "code",
   "execution_count": 50,
   "id": "046d2dad",
   "metadata": {},
   "outputs": [
    {
     "data": {
      "text/html": [
       "<div>\n",
       "<style scoped>\n",
       "    .dataframe tbody tr th:only-of-type {\n",
       "        vertical-align: middle;\n",
       "    }\n",
       "\n",
       "    .dataframe tbody tr th {\n",
       "        vertical-align: top;\n",
       "    }\n",
       "\n",
       "    .dataframe thead th {\n",
       "        text-align: right;\n",
       "    }\n",
       "</style>\n",
       "<table border=\"1\" class=\"dataframe\">\n",
       "  <thead>\n",
       "    <tr style=\"text-align: right;\">\n",
       "      <th></th>\n",
       "      <th>balance_group</th>\n",
       "      <th>student</th>\n",
       "      <th>score_balance_student</th>\n",
       "    </tr>\n",
       "  </thead>\n",
       "  <tbody>\n",
       "    <tr>\n",
       "      <th>0</th>\n",
       "      <td>(-inf, 250.0]</td>\n",
       "      <td>0</td>\n",
       "      <td>0.000000</td>\n",
       "    </tr>\n",
       "    <tr>\n",
       "      <th>1</th>\n",
       "      <td>(-inf, 250.0]</td>\n",
       "      <td>1</td>\n",
       "      <td>0.000000</td>\n",
       "    </tr>\n",
       "    <tr>\n",
       "      <th>2</th>\n",
       "      <td>(250.0, 500.0]</td>\n",
       "      <td>0</td>\n",
       "      <td>0.000000</td>\n",
       "    </tr>\n",
       "    <tr>\n",
       "      <th>3</th>\n",
       "      <td>(250.0, 500.0]</td>\n",
       "      <td>1</td>\n",
       "      <td>0.000000</td>\n",
       "    </tr>\n",
       "    <tr>\n",
       "      <th>4</th>\n",
       "      <td>(500.0, 750.0]</td>\n",
       "      <td>0</td>\n",
       "      <td>0.001859</td>\n",
       "    </tr>\n",
       "    <tr>\n",
       "      <th>5</th>\n",
       "      <td>(500.0, 750.0]</td>\n",
       "      <td>1</td>\n",
       "      <td>0.000000</td>\n",
       "    </tr>\n",
       "    <tr>\n",
       "      <th>6</th>\n",
       "      <td>(750.0, 1000.0]</td>\n",
       "      <td>0</td>\n",
       "      <td>0.002662</td>\n",
       "    </tr>\n",
       "    <tr>\n",
       "      <th>7</th>\n",
       "      <td>(750.0, 1000.0]</td>\n",
       "      <td>1</td>\n",
       "      <td>0.000000</td>\n",
       "    </tr>\n",
       "    <tr>\n",
       "      <th>8</th>\n",
       "      <td>(1000.0, 1250.0]</td>\n",
       "      <td>0</td>\n",
       "      <td>0.015205</td>\n",
       "    </tr>\n",
       "    <tr>\n",
       "      <th>9</th>\n",
       "      <td>(1000.0, 1250.0]</td>\n",
       "      <td>1</td>\n",
       "      <td>0.006608</td>\n",
       "    </tr>\n",
       "    <tr>\n",
       "      <th>10</th>\n",
       "      <td>(1250.0, 1500.0]</td>\n",
       "      <td>0</td>\n",
       "      <td>0.052239</td>\n",
       "    </tr>\n",
       "    <tr>\n",
       "      <th>11</th>\n",
       "      <td>(1250.0, 1500.0]</td>\n",
       "      <td>1</td>\n",
       "      <td>0.042813</td>\n",
       "    </tr>\n",
       "    <tr>\n",
       "      <th>12</th>\n",
       "      <td>(1500.0, 1750.0]</td>\n",
       "      <td>0</td>\n",
       "      <td>0.167286</td>\n",
       "    </tr>\n",
       "    <tr>\n",
       "      <th>13</th>\n",
       "      <td>(1500.0, 1750.0]</td>\n",
       "      <td>1</td>\n",
       "      <td>0.109290</td>\n",
       "    </tr>\n",
       "    <tr>\n",
       "      <th>14</th>\n",
       "      <td>(1750.0, 2000.0]</td>\n",
       "      <td>0</td>\n",
       "      <td>0.527473</td>\n",
       "    </tr>\n",
       "    <tr>\n",
       "      <th>15</th>\n",
       "      <td>(1750.0, 2000.0]</td>\n",
       "      <td>1</td>\n",
       "      <td>0.296296</td>\n",
       "    </tr>\n",
       "    <tr>\n",
       "      <th>16</th>\n",
       "      <td>(2000.0, 2250.0]</td>\n",
       "      <td>0</td>\n",
       "      <td>0.862069</td>\n",
       "    </tr>\n",
       "    <tr>\n",
       "      <th>17</th>\n",
       "      <td>(2000.0, 2250.0]</td>\n",
       "      <td>1</td>\n",
       "      <td>0.647059</td>\n",
       "    </tr>\n",
       "    <tr>\n",
       "      <th>18</th>\n",
       "      <td>(2250.0, 2500.0]</td>\n",
       "      <td>0</td>\n",
       "      <td>1.000000</td>\n",
       "    </tr>\n",
       "    <tr>\n",
       "      <th>19</th>\n",
       "      <td>(2250.0, 2500.0]</td>\n",
       "      <td>1</td>\n",
       "      <td>0.727273</td>\n",
       "    </tr>\n",
       "    <tr>\n",
       "      <th>20</th>\n",
       "      <td>(2500.0, inf]</td>\n",
       "      <td>0</td>\n",
       "      <td>NaN</td>\n",
       "    </tr>\n",
       "    <tr>\n",
       "      <th>21</th>\n",
       "      <td>(2500.0, inf]</td>\n",
       "      <td>1</td>\n",
       "      <td>1.000000</td>\n",
       "    </tr>\n",
       "  </tbody>\n",
       "</table>\n",
       "</div>"
      ],
      "text/plain": [
       "       balance_group  student  score_balance_student\n",
       "0      (-inf, 250.0]        0               0.000000\n",
       "1      (-inf, 250.0]        1               0.000000\n",
       "2     (250.0, 500.0]        0               0.000000\n",
       "3     (250.0, 500.0]        1               0.000000\n",
       "4     (500.0, 750.0]        0               0.001859\n",
       "5     (500.0, 750.0]        1               0.000000\n",
       "6    (750.0, 1000.0]        0               0.002662\n",
       "7    (750.0, 1000.0]        1               0.000000\n",
       "8   (1000.0, 1250.0]        0               0.015205\n",
       "9   (1000.0, 1250.0]        1               0.006608\n",
       "10  (1250.0, 1500.0]        0               0.052239\n",
       "11  (1250.0, 1500.0]        1               0.042813\n",
       "12  (1500.0, 1750.0]        0               0.167286\n",
       "13  (1500.0, 1750.0]        1               0.109290\n",
       "14  (1750.0, 2000.0]        0               0.527473\n",
       "15  (1750.0, 2000.0]        1               0.296296\n",
       "16  (2000.0, 2250.0]        0               0.862069\n",
       "17  (2000.0, 2250.0]        1               0.647059\n",
       "18  (2250.0, 2500.0]        0               1.000000\n",
       "19  (2250.0, 2500.0]        1               0.727273\n",
       "20     (2500.0, inf]        0                    NaN\n",
       "21     (2500.0, inf]        1               1.000000"
      ]
     },
     "execution_count": 50,
     "metadata": {},
     "output_type": "execute_result"
    }
   ],
   "source": [
    "model"
   ]
  },
  {
   "cell_type": "code",
   "execution_count": 51,
   "id": "192fa14d",
   "metadata": {},
   "outputs": [],
   "source": [
    "train_full = train_full.merge(model,how='left',on=['balance_group', 'student'])"
   ]
  },
  {
   "cell_type": "code",
   "execution_count": 52,
   "id": "c7e96ef5",
   "metadata": {},
   "outputs": [
    {
     "data": {
      "text/html": [
       "<div>\n",
       "<style scoped>\n",
       "    .dataframe tbody tr th:only-of-type {\n",
       "        vertical-align: middle;\n",
       "    }\n",
       "\n",
       "    .dataframe tbody tr th {\n",
       "        vertical-align: top;\n",
       "    }\n",
       "\n",
       "    .dataframe thead th {\n",
       "        text-align: right;\n",
       "    }\n",
       "</style>\n",
       "<table border=\"1\" class=\"dataframe\">\n",
       "  <thead>\n",
       "    <tr style=\"text-align: right;\">\n",
       "      <th></th>\n",
       "      <th>default</th>\n",
       "      <th>student</th>\n",
       "      <th>balance</th>\n",
       "      <th>income</th>\n",
       "      <th>balance_group</th>\n",
       "      <th>score_balance</th>\n",
       "      <th>score_mean</th>\n",
       "      <th>score_balance_student</th>\n",
       "    </tr>\n",
       "  </thead>\n",
       "  <tbody>\n",
       "    <tr>\n",
       "      <th>0</th>\n",
       "      <td>0</td>\n",
       "      <td>0</td>\n",
       "      <td>1491.479282</td>\n",
       "      <td>54835.77005</td>\n",
       "      <td>(1250.0, 1500.0]</td>\n",
       "      <td>0.048667</td>\n",
       "      <td>0.033375</td>\n",
       "      <td>0.052239</td>\n",
       "    </tr>\n",
       "    <tr>\n",
       "      <th>1</th>\n",
       "      <td>0</td>\n",
       "      <td>0</td>\n",
       "      <td>813.200651</td>\n",
       "      <td>49477.51151</td>\n",
       "      <td>(750.0, 1000.0]</td>\n",
       "      <td>0.001887</td>\n",
       "      <td>0.033375</td>\n",
       "      <td>0.002662</td>\n",
       "    </tr>\n",
       "    <tr>\n",
       "      <th>2</th>\n",
       "      <td>0</td>\n",
       "      <td>0</td>\n",
       "      <td>1406.947652</td>\n",
       "      <td>27667.83603</td>\n",
       "      <td>(1250.0, 1500.0]</td>\n",
       "      <td>0.048667</td>\n",
       "      <td>0.033375</td>\n",
       "      <td>0.052239</td>\n",
       "    </tr>\n",
       "    <tr>\n",
       "      <th>3</th>\n",
       "      <td>0</td>\n",
       "      <td>0</td>\n",
       "      <td>252.106954</td>\n",
       "      <td>38494.65469</td>\n",
       "      <td>(250.0, 500.0]</td>\n",
       "      <td>0.000000</td>\n",
       "      <td>0.033375</td>\n",
       "      <td>0.000000</td>\n",
       "    </tr>\n",
       "    <tr>\n",
       "      <th>4</th>\n",
       "      <td>0</td>\n",
       "      <td>1</td>\n",
       "      <td>1276.667762</td>\n",
       "      <td>19073.10852</td>\n",
       "      <td>(1250.0, 1500.0]</td>\n",
       "      <td>0.048667</td>\n",
       "      <td>0.033375</td>\n",
       "      <td>0.042813</td>\n",
       "    </tr>\n",
       "  </tbody>\n",
       "</table>\n",
       "</div>"
      ],
      "text/plain": [
       "   default  student      balance       income     balance_group  \\\n",
       "0        0        0  1491.479282  54835.77005  (1250.0, 1500.0]   \n",
       "1        0        0   813.200651  49477.51151   (750.0, 1000.0]   \n",
       "2        0        0  1406.947652  27667.83603  (1250.0, 1500.0]   \n",
       "3        0        0   252.106954  38494.65469    (250.0, 500.0]   \n",
       "4        0        1  1276.667762  19073.10852  (1250.0, 1500.0]   \n",
       "\n",
       "   score_balance  score_mean  score_balance_student  \n",
       "0       0.048667    0.033375               0.052239  \n",
       "1       0.001887    0.033375               0.002662  \n",
       "2       0.048667    0.033375               0.052239  \n",
       "3       0.000000    0.033375               0.000000  \n",
       "4       0.048667    0.033375               0.042813  "
      ]
     },
     "execution_count": 52,
     "metadata": {},
     "output_type": "execute_result"
    }
   ],
   "source": [
    "train_full.head()"
   ]
  },
  {
   "cell_type": "code",
   "execution_count": 53,
   "id": "20740574",
   "metadata": {},
   "outputs": [],
   "source": [
    "test = test.merge(model,how='left',on=['balance_group', 'student'])"
   ]
  },
  {
   "cell_type": "code",
   "execution_count": 54,
   "id": "0cf36d44",
   "metadata": {},
   "outputs": [
    {
     "data": {
      "text/plain": [
       "default                  0\n",
       "student                  0\n",
       "balance                  0\n",
       "income                   0\n",
       "balance_group            0\n",
       "score_balance            0\n",
       "score_balance_student    0\n",
       "dtype: int64"
      ]
     },
     "execution_count": 54,
     "metadata": {},
     "output_type": "execute_result"
    }
   ],
   "source": [
    "test.isna().sum()"
   ]
  },
  {
   "cell_type": "code",
   "execution_count": 55,
   "id": "231e8e21",
   "metadata": {},
   "outputs": [
    {
     "data": {
      "text/plain": [
       "0.08022205818331367"
      ]
     },
     "execution_count": 55,
     "metadata": {},
     "output_type": "execute_result"
    }
   ],
   "source": [
    "log_loss(train_full['default'],train_full['score_balance_student'])"
   ]
  },
  {
   "cell_type": "code",
   "execution_count": 56,
   "id": "a10a9830",
   "metadata": {},
   "outputs": [
    {
     "data": {
      "text/plain": [
       "0.0922737551077118"
      ]
     },
     "execution_count": 56,
     "metadata": {},
     "output_type": "execute_result"
    }
   ],
   "source": [
    "log_loss(test['default'],test['score_balance_student'])"
   ]
  },
  {
   "cell_type": "code",
   "execution_count": 57,
   "id": "834942f0",
   "metadata": {},
   "outputs": [
    {
     "data": {
      "text/plain": [
       "4.606741573033708"
      ]
     },
     "execution_count": 57,
     "metadata": {},
     "output_type": "execute_result"
    }
   ],
   "source": [
    "uplift(train_full,'score_balance_student',0.2)"
   ]
  },
  {
   "cell_type": "code",
   "execution_count": 58,
   "id": "6a38d4e5",
   "metadata": {},
   "outputs": [
    {
     "data": {
      "text/plain": [
       "4.621212121212121"
      ]
     },
     "execution_count": 58,
     "metadata": {},
     "output_type": "execute_result"
    }
   ],
   "source": [
    "uplift(test,'score_balance_student',0.2)"
   ]
  },
  {
   "cell_type": "markdown",
   "id": "5c816bb5",
   "metadata": {},
   "source": [
    "# Machine learning"
   ]
  },
  {
   "cell_type": "code",
   "execution_count": 59,
   "id": "46b255b9",
   "metadata": {},
   "outputs": [],
   "source": [
    "from catboost import CatBoostClassifier"
   ]
  },
  {
   "cell_type": "code",
   "execution_count": 81,
   "id": "53a0cbab",
   "metadata": {},
   "outputs": [],
   "source": [
    "X = ['student','balance','income']\n",
    "\n",
    "y = ['default']"
   ]
  },
  {
   "cell_type": "code",
   "execution_count": 82,
   "id": "28c085bb",
   "metadata": {},
   "outputs": [],
   "source": [
    "params = {'verbose':100,\n",
    "          'random_seed':42,\n",
    "          'learning_rate':0.005}"
   ]
  },
  {
   "cell_type": "code",
   "execution_count": 83,
   "id": "90b21066",
   "metadata": {},
   "outputs": [],
   "source": [
    "model = CatBoostClassifier(**params)"
   ]
  },
  {
   "cell_type": "code",
   "execution_count": 84,
   "id": "f24a002c",
   "metadata": {},
   "outputs": [
    {
     "name": "stdout",
     "output_type": "stream",
     "text": [
      "0:\tlearn: 0.6803857\ttest: 0.6806247\tbest: 0.6806247 (0)\ttotal: 4.94ms\tremaining: 4.93s\n",
      "100:\tlearn: 0.1848119\ttest: 0.1882758\tbest: 0.1882758 (100)\ttotal: 529ms\tremaining: 4.71s\n",
      "200:\tlearn: 0.1043676\ttest: 0.1081916\tbest: 0.1081916 (200)\ttotal: 1.09s\tremaining: 4.34s\n",
      "300:\tlearn: 0.0866074\ttest: 0.0908129\tbest: 0.0908129 (300)\ttotal: 1.65s\tremaining: 3.84s\n",
      "400:\tlearn: 0.0803082\ttest: 0.0856249\tbest: 0.0856249 (400)\ttotal: 2.22s\tremaining: 3.31s\n",
      "500:\tlearn: 0.0770833\ttest: 0.0838703\tbest: 0.0838703 (500)\ttotal: 2.79s\tremaining: 2.78s\n",
      "600:\tlearn: 0.0750613\ttest: 0.0832033\tbest: 0.0832015 (599)\ttotal: 3.36s\tremaining: 2.23s\n",
      "700:\tlearn: 0.0737807\ttest: 0.0831076\tbest: 0.0830599 (652)\ttotal: 3.92s\tremaining: 1.67s\n",
      "800:\tlearn: 0.0728527\ttest: 0.0830918\tbest: 0.0830599 (652)\ttotal: 4.49s\tremaining: 1.11s\n",
      "900:\tlearn: 0.0720229\ttest: 0.0831897\tbest: 0.0830599 (652)\ttotal: 5.05s\tremaining: 555ms\n",
      "999:\tlearn: 0.0712328\ttest: 0.0833193\tbest: 0.0830599 (652)\ttotal: 5.61s\tremaining: 0us\n",
      "\n",
      "bestTest = 0.08305986382\n",
      "bestIteration = 652\n",
      "\n",
      "Shrink model to first 653 iterations.\n"
     ]
    },
    {
     "data": {
      "text/plain": [
       "<catboost.core.CatBoostClassifier at 0x2ac4aacbeb0>"
      ]
     },
     "execution_count": 84,
     "metadata": {},
     "output_type": "execute_result"
    }
   ],
   "source": [
    "model.fit(train[X],train[y],eval_set=(val[X],val[y]))"
   ]
  },
  {
   "cell_type": "code",
   "execution_count": 85,
   "id": "61e14850",
   "metadata": {},
   "outputs": [],
   "source": [
    "def print_metrics(df,score):\n",
    "    print(log_loss(df['default'],df[score]))\n",
    "    print(uplift(df,score,0.2))"
   ]
  },
  {
   "cell_type": "code",
   "execution_count": 86,
   "id": "1a4f1836",
   "metadata": {},
   "outputs": [],
   "source": [
    "test['score_cat_balance_student_income'] = model.predict_proba(test[X])[:,1]"
   ]
  },
  {
   "cell_type": "code",
   "execution_count": 87,
   "id": "5cc5d7a6",
   "metadata": {},
   "outputs": [
    {
     "name": "stdout",
     "output_type": "stream",
     "text": [
      "0.07645542690782194\n",
      "4.621212121212121\n"
     ]
    }
   ],
   "source": [
    "print_metrics(test,'score_cat_balance_student_income')"
   ]
  },
  {
   "cell_type": "code",
   "execution_count": null,
   "id": "804550c1",
   "metadata": {},
   "outputs": [],
   "source": []
  }
 ],
 "metadata": {
  "kernelspec": {
   "display_name": "Python 3 (ipykernel)",
   "language": "python",
   "name": "python3"
  },
  "language_info": {
   "codemirror_mode": {
    "name": "ipython",
    "version": 3
   },
   "file_extension": ".py",
   "mimetype": "text/x-python",
   "name": "python",
   "nbconvert_exporter": "python",
   "pygments_lexer": "ipython3",
   "version": "3.9.13"
  }
 },
 "nbformat": 4,
 "nbformat_minor": 5
}
